{
 "cells": [
  {
   "cell_type": "markdown",
   "metadata": {},
   "source": [
    "# MIMIC-III Introduction Workshop With Tasks"
   ]
  },
  {
   "cell_type": "markdown",
   "metadata": {},
   "source": [
    "### By Zahoor Ahmad"
   ]
  },
  {
   "cell_type": "markdown",
   "metadata": {},
   "source": [
    "In this section, we'll explore the data of a single patient, before building a simple predictive model."
   ]
  },
  {
   "cell_type": "markdown",
   "metadata": {},
   "source": [
    "# PART 1: Exploring the trajectory of a single patient"
   ]
  },
  {
   "cell_type": "markdown",
   "metadata": {},
   "source": [
    "### Import Python libraries"
   ]
  },
  {
   "cell_type": "markdown",
   "metadata": {},
   "source": [
    "We first need to import some tools for working with data in Python. \n",
    "- NumPy is for working with numbers\n",
    "- Pandas is for analysing data\n",
    "- MatPlotLib is for making plots\n",
    "- Sqlite3 to connect to the database"
   ]
  },
  {
   "cell_type": "code",
   "execution_count": 156,
   "metadata": {},
   "outputs": [],
   "source": [
    "import numpy as np\n",
    "import pandas as pd\n",
    "import matplotlib.pyplot as plt\n",
    "import sqlite3\n",
    "%matplotlib inline"
   ]
  },
  {
   "cell_type": "markdown",
   "metadata": {},
   "source": [
    "### Connect to the database"
   ]
  },
  {
   "cell_type": "markdown",
   "metadata": {},
   "source": [
    "- We can use the sqlite3 library to connect to the MIMIC database\n",
    "- **Update the file path to your local folder!!**\n",
    "- Once the connection is established, we'll run a simple SQL query."
   ]
  },
  {
   "cell_type": "code",
   "execution_count": 157,
   "metadata": {},
   "outputs": [],
   "source": [
    "# Connect to the MIMIC database\n",
    "conn = sqlite3.connect('..\\data\\mimicdata.sqlite')"
   ]
  },
  {
   "cell_type": "code",
   "execution_count": 158,
   "metadata": {},
   "outputs": [],
   "source": [
    "# Create our test query\n",
    "test_query = \"\"\"\n",
    "SELECT subject_id, hadm_id, admittime, dischtime, admission_type, diagnosis\n",
    "FROM admissions\n",
    "\"\"\""
   ]
  },
  {
   "cell_type": "code",
   "execution_count": 159,
   "metadata": {},
   "outputs": [],
   "source": [
    "# Run the query and assign the results to a variable\n",
    "test = pd.read_sql_query(test_query,conn)"
   ]
  },
  {
   "cell_type": "code",
   "execution_count": 160,
   "metadata": {},
   "outputs": [
    {
     "data": {
      "text/html": [
       "<div>\n",
       "<style>\n",
       "    .dataframe thead tr:only-child th {\n",
       "        text-align: right;\n",
       "    }\n",
       "\n",
       "    .dataframe thead th {\n",
       "        text-align: left;\n",
       "    }\n",
       "\n",
       "    .dataframe tbody tr th {\n",
       "        vertical-align: top;\n",
       "    }\n",
       "</style>\n",
       "<table border=\"1\" class=\"dataframe\">\n",
       "  <thead>\n",
       "    <tr style=\"text-align: right;\">\n",
       "      <th></th>\n",
       "      <th>SUBJECT_ID</th>\n",
       "      <th>HADM_ID</th>\n",
       "      <th>ADMITTIME</th>\n",
       "      <th>DISCHTIME</th>\n",
       "      <th>ADMISSION_TYPE</th>\n",
       "      <th>DIAGNOSIS</th>\n",
       "    </tr>\n",
       "  </thead>\n",
       "  <tbody>\n",
       "    <tr>\n",
       "      <th>0</th>\n",
       "      <td>40036</td>\n",
       "      <td>198489</td>\n",
       "      <td>2141-08-01 23:46:00</td>\n",
       "      <td>2141-08-09 19:15:00</td>\n",
       "      <td>EMERGENCY</td>\n",
       "      <td>SEPSIS</td>\n",
       "    </tr>\n",
       "    <tr>\n",
       "      <th>1</th>\n",
       "      <td>40080</td>\n",
       "      <td>162107</td>\n",
       "      <td>2106-05-31 16:43:00</td>\n",
       "      <td>2106-06-05 01:18:00</td>\n",
       "      <td>EMERGENCY</td>\n",
       "      <td>CONGESTIVE HEART FAILURE</td>\n",
       "    </tr>\n",
       "    <tr>\n",
       "      <th>2</th>\n",
       "      <td>40084</td>\n",
       "      <td>195762</td>\n",
       "      <td>2173-01-31 22:11:00</td>\n",
       "      <td>2173-02-05 01:31:00</td>\n",
       "      <td>EMERGENCY</td>\n",
       "      <td>INTRACRANIAL HEMORRHAGE;OPEN FX</td>\n",
       "    </tr>\n",
       "    <tr>\n",
       "      <th>3</th>\n",
       "      <td>40116</td>\n",
       "      <td>157106</td>\n",
       "      <td>2150-02-19 00:12:00</td>\n",
       "      <td>2150-03-11 13:58:00</td>\n",
       "      <td>EMERGENCY</td>\n",
       "      <td>GASTROINTESTINAL BLEED</td>\n",
       "    </tr>\n",
       "    <tr>\n",
       "      <th>4</th>\n",
       "      <td>40120</td>\n",
       "      <td>146466</td>\n",
       "      <td>2120-01-27 20:41:00</td>\n",
       "      <td>2120-02-12 17:14:00</td>\n",
       "      <td>EMERGENCY</td>\n",
       "      <td>CONGESTIVE HEART FAILURE</td>\n",
       "    </tr>\n",
       "  </tbody>\n",
       "</table>\n",
       "</div>"
      ],
      "text/plain": [
       "   SUBJECT_ID  HADM_ID            ADMITTIME            DISCHTIME  \\\n",
       "0       40036   198489  2141-08-01 23:46:00  2141-08-09 19:15:00   \n",
       "1       40080   162107  2106-05-31 16:43:00  2106-06-05 01:18:00   \n",
       "2       40084   195762  2173-01-31 22:11:00  2173-02-05 01:31:00   \n",
       "3       40116   157106  2150-02-19 00:12:00  2150-03-11 13:58:00   \n",
       "4       40120   146466  2120-01-27 20:41:00  2120-02-12 17:14:00   \n",
       "\n",
       "  ADMISSION_TYPE                        DIAGNOSIS  \n",
       "0      EMERGENCY                           SEPSIS  \n",
       "1      EMERGENCY         CONGESTIVE HEART FAILURE  \n",
       "2      EMERGENCY  INTRACRANIAL HEMORRHAGE;OPEN FX  \n",
       "3      EMERGENCY           GASTROINTESTINAL BLEED  \n",
       "4      EMERGENCY         CONGESTIVE HEART FAILURE  "
      ]
     },
     "execution_count": 160,
     "metadata": {},
     "output_type": "execute_result"
    }
   ],
   "source": [
    "# Display the first few rows\n",
    "test.head()"
   ]
  },
  {
   "cell_type": "markdown",
   "metadata": {},
   "source": [
    "### Load the chartevents data"
   ]
  },
  {
   "cell_type": "markdown",
   "metadata": {},
   "source": [
    "- The chartevents table contains data charted at the patient bedside. It includes variables such as heart rate, respiratory rate, temperature, and so on.\n",
    "- We'll begin by loading the chartevents data for a single patient."
   ]
  },
  {
   "cell_type": "code",
   "execution_count": 161,
   "metadata": {},
   "outputs": [],
   "source": [
    "query = \"\"\"\n",
    "SELECT de.icustay_id\n",
    "  , round((strftime('%s',de.charttime)-strftime('%s',ie.intime))/60.0/60.0+0.5) as HOURS\n",
    "  , di.label\n",
    "  , de.value\n",
    "  , de.valuenum\n",
    "  , de.uom\n",
    "FROM chartevents de\n",
    "INNER join d_items di\n",
    "ON de.itemid = di.itemid\n",
    "INNER join icustays ie\n",
    "ON de.icustay_id = ie.icustay_id\n",
    "WHERE de.icustay_id = 252522\n",
    "ORDER BY charttime;\n",
    "\"\"\"\n",
    "\n",
    "ce = pd.read_sql_query(query,conn)\n",
    "\n",
    "\n",
    "# OPTION 2: load chartevents from a CSV file\n",
    "# ce = pd.read_csv('data/example_chartevents.csv', index_col='HOURSSINCEADMISSION')"
   ]
  },
  {
   "cell_type": "code",
   "execution_count": 162,
   "metadata": {},
   "outputs": [
    {
     "data": {
      "text/html": [
       "<div>\n",
       "<style>\n",
       "    .dataframe thead tr:only-child th {\n",
       "        text-align: right;\n",
       "    }\n",
       "\n",
       "    .dataframe thead th {\n",
       "        text-align: left;\n",
       "    }\n",
       "\n",
       "    .dataframe tbody tr th {\n",
       "        vertical-align: top;\n",
       "    }\n",
       "</style>\n",
       "<table border=\"1\" class=\"dataframe\">\n",
       "  <thead>\n",
       "    <tr style=\"text-align: right;\">\n",
       "      <th></th>\n",
       "      <th>ICUSTAY_ID</th>\n",
       "      <th>HOURS</th>\n",
       "      <th>LABEL</th>\n",
       "      <th>VALUE</th>\n",
       "      <th>VALUENUM</th>\n",
       "      <th>UOM</th>\n",
       "    </tr>\n",
       "  </thead>\n",
       "  <tbody>\n",
       "    <tr>\n",
       "      <th>0</th>\n",
       "      <td>252522</td>\n",
       "      <td>1.0</td>\n",
       "      <td>Heart Rate</td>\n",
       "      <td>90</td>\n",
       "      <td>90.0</td>\n",
       "      <td>bpm</td>\n",
       "    </tr>\n",
       "    <tr>\n",
       "      <th>1</th>\n",
       "      <td>252522</td>\n",
       "      <td>1.0</td>\n",
       "      <td>Non Invasive Blood Pressure systolic</td>\n",
       "      <td>104</td>\n",
       "      <td>104.0</td>\n",
       "      <td>mmHg</td>\n",
       "    </tr>\n",
       "    <tr>\n",
       "      <th>2</th>\n",
       "      <td>252522</td>\n",
       "      <td>1.0</td>\n",
       "      <td>Non Invasive Blood Pressure diastolic</td>\n",
       "      <td>63</td>\n",
       "      <td>63.0</td>\n",
       "      <td>mmHg</td>\n",
       "    </tr>\n",
       "    <tr>\n",
       "      <th>3</th>\n",
       "      <td>252522</td>\n",
       "      <td>1.0</td>\n",
       "      <td>Non Invasive Blood Pressure mean</td>\n",
       "      <td>74</td>\n",
       "      <td>74.0</td>\n",
       "      <td>mmHg</td>\n",
       "    </tr>\n",
       "    <tr>\n",
       "      <th>4</th>\n",
       "      <td>252522</td>\n",
       "      <td>1.0</td>\n",
       "      <td>Respiratory Rate</td>\n",
       "      <td>28</td>\n",
       "      <td>28.0</td>\n",
       "      <td>insp/min</td>\n",
       "    </tr>\n",
       "  </tbody>\n",
       "</table>\n",
       "</div>"
      ],
      "text/plain": [
       "   ICUSTAY_ID  HOURS                                  LABEL VALUE  VALUENUM  \\\n",
       "0      252522    1.0                             Heart Rate    90      90.0   \n",
       "1      252522    1.0   Non Invasive Blood Pressure systolic   104     104.0   \n",
       "2      252522    1.0  Non Invasive Blood Pressure diastolic    63      63.0   \n",
       "3      252522    1.0       Non Invasive Blood Pressure mean    74      74.0   \n",
       "4      252522    1.0                       Respiratory Rate    28      28.0   \n",
       "\n",
       "        UOM  \n",
       "0       bpm  \n",
       "1      mmHg  \n",
       "2      mmHg  \n",
       "3      mmHg  \n",
       "4  insp/min  "
      ]
     },
     "execution_count": 162,
     "metadata": {},
     "output_type": "execute_result"
    }
   ],
   "source": [
    "# Preview the data\n",
    "# Use 'head' to limit the number of rows returned\n",
    "ce.head()"
   ]
  },
  {
   "cell_type": "markdown",
   "metadata": {},
   "source": [
    "### Review the patient's heart rate"
   ]
  },
  {
   "cell_type": "markdown",
   "metadata": {},
   "source": [
    "- We can select individual columns using the column name. \n",
    "- For example, if we want to select just the label column, we write **```ce.LABEL```** or alternatively **```ce['LABEL']```**"
   ]
  },
  {
   "cell_type": "code",
   "execution_count": 163,
   "metadata": {},
   "outputs": [
    {
     "data": {
      "text/plain": [
       "0                                     Heart Rate\n",
       "1           Non Invasive Blood Pressure systolic\n",
       "2          Non Invasive Blood Pressure diastolic\n",
       "3               Non Invasive Blood Pressure mean\n",
       "4                               Respiratory Rate\n",
       "5                    O2 saturation pulseoxymetry\n",
       "6                                     Heart Rate\n",
       "7                        Heart rate Alarm - High\n",
       "8                         Heart Rate Alarm - Low\n",
       "9                               Respiratory Rate\n",
       "10                   O2 saturation pulseoxymetry\n",
       "11      Non-Invasive Blood Pressure Alarm - High\n",
       "12       Non-Invasive Blood Pressure Alarm - Low\n",
       "13                        Temperature Fahrenheit\n",
       "14      O2 Saturation Pulseoxymetry Alarm - High\n",
       "15       O2 Saturation Pulseoxymetry Alarm - Low\n",
       "16                             Resp Alarm - High\n",
       "17                              Resp Alarm - Low\n",
       "18                              SpO2 Desat Limit\n",
       "19                            Richmond-RAS Scale\n",
       "20                             GCS - Eye Opening\n",
       "21                         GCS - Verbal Response\n",
       "22                          GCS - Motor Response\n",
       "23                                       O2 Flow\n",
       "24                                    Heart Rate\n",
       "25          Non Invasive Blood Pressure systolic\n",
       "26         Non Invasive Blood Pressure diastolic\n",
       "27              Non Invasive Blood Pressure mean\n",
       "28                              Respiratory Rate\n",
       "29                   O2 saturation pulseoxymetry\n",
       "                          ...                   \n",
       "1116     O2 Saturation Pulseoxymetry Alarm - Low\n",
       "1117                           Resp Alarm - High\n",
       "1118                            Resp Alarm - Low\n",
       "1119                            SpO2 Desat Limit\n",
       "1120                          Richmond-RAS Scale\n",
       "1121                           GCS - Eye Opening\n",
       "1122                                  Heart Rate\n",
       "1123        Non Invasive Blood Pressure systolic\n",
       "1124       Non Invasive Blood Pressure diastolic\n",
       "1125            Non Invasive Blood Pressure mean\n",
       "1126                            Respiratory Rate\n",
       "1127                 O2 saturation pulseoxymetry\n",
       "1128                                  Heart Rate\n",
       "1129        Non Invasive Blood Pressure systolic\n",
       "1130       Non Invasive Blood Pressure diastolic\n",
       "1131            Non Invasive Blood Pressure mean\n",
       "1132                            Respiratory Rate\n",
       "1133                 O2 saturation pulseoxymetry\n",
       "1134                                  Heart Rate\n",
       "1135        Non Invasive Blood Pressure systolic\n",
       "1136       Non Invasive Blood Pressure diastolic\n",
       "1137            Non Invasive Blood Pressure mean\n",
       "1138                            Respiratory Rate\n",
       "1139                 O2 saturation pulseoxymetry\n",
       "1140                                  Heart Rate\n",
       "1141        Non Invasive Blood Pressure systolic\n",
       "1142       Non Invasive Blood Pressure diastolic\n",
       "1143            Non Invasive Blood Pressure mean\n",
       "1144                            Respiratory Rate\n",
       "1145                 O2 saturation pulseoxymetry\n",
       "Name: LABEL, Length: 1146, dtype: object"
      ]
     },
     "execution_count": 163,
     "metadata": {},
     "output_type": "execute_result"
    }
   ],
   "source": [
    "# Select a single column from the chartevents data we extracted \n",
    "ce['LABEL']"
   ]
  },
  {
   "cell_type": "markdown",
   "metadata": {},
   "source": [
    "- In a similar way, we can select rows from data using indexes. \n",
    "- For example, to select rows where the label is equal to 'Heart Rate', we would create an index using **```[ce.LABEL=='Heart Rate']```** "
   ]
  },
  {
   "cell_type": "code",
   "execution_count": 164,
   "metadata": {},
   "outputs": [
    {
     "data": {
      "text/html": [
       "<div>\n",
       "<style>\n",
       "    .dataframe thead tr:only-child th {\n",
       "        text-align: right;\n",
       "    }\n",
       "\n",
       "    .dataframe thead th {\n",
       "        text-align: left;\n",
       "    }\n",
       "\n",
       "    .dataframe tbody tr th {\n",
       "        vertical-align: top;\n",
       "    }\n",
       "</style>\n",
       "<table border=\"1\" class=\"dataframe\">\n",
       "  <thead>\n",
       "    <tr style=\"text-align: right;\">\n",
       "      <th></th>\n",
       "      <th>ICUSTAY_ID</th>\n",
       "      <th>HOURS</th>\n",
       "      <th>LABEL</th>\n",
       "      <th>VALUE</th>\n",
       "      <th>VALUENUM</th>\n",
       "      <th>UOM</th>\n",
       "    </tr>\n",
       "  </thead>\n",
       "  <tbody>\n",
       "    <tr>\n",
       "      <th>0</th>\n",
       "      <td>252522</td>\n",
       "      <td>1.0</td>\n",
       "      <td>Heart Rate</td>\n",
       "      <td>90</td>\n",
       "      <td>90.0</td>\n",
       "      <td>bpm</td>\n",
       "    </tr>\n",
       "    <tr>\n",
       "      <th>6</th>\n",
       "      <td>252522</td>\n",
       "      <td>1.0</td>\n",
       "      <td>Heart Rate</td>\n",
       "      <td>86</td>\n",
       "      <td>86.0</td>\n",
       "      <td>bpm</td>\n",
       "    </tr>\n",
       "    <tr>\n",
       "      <th>24</th>\n",
       "      <td>252522</td>\n",
       "      <td>2.0</td>\n",
       "      <td>Heart Rate</td>\n",
       "      <td>94</td>\n",
       "      <td>94.0</td>\n",
       "      <td>bpm</td>\n",
       "    </tr>\n",
       "    <tr>\n",
       "      <th>30</th>\n",
       "      <td>252522</td>\n",
       "      <td>3.0</td>\n",
       "      <td>Heart Rate</td>\n",
       "      <td>91</td>\n",
       "      <td>91.0</td>\n",
       "      <td>bpm</td>\n",
       "    </tr>\n",
       "    <tr>\n",
       "      <th>36</th>\n",
       "      <td>252522</td>\n",
       "      <td>4.0</td>\n",
       "      <td>Heart Rate</td>\n",
       "      <td>95</td>\n",
       "      <td>95.0</td>\n",
       "      <td>bpm</td>\n",
       "    </tr>\n",
       "    <tr>\n",
       "      <th>58</th>\n",
       "      <td>252522</td>\n",
       "      <td>5.0</td>\n",
       "      <td>Heart Rate</td>\n",
       "      <td>90</td>\n",
       "      <td>90.0</td>\n",
       "      <td>bpm</td>\n",
       "    </tr>\n",
       "    <tr>\n",
       "      <th>67</th>\n",
       "      <td>252522</td>\n",
       "      <td>6.0</td>\n",
       "      <td>Heart Rate</td>\n",
       "      <td>93</td>\n",
       "      <td>93.0</td>\n",
       "      <td>bpm</td>\n",
       "    </tr>\n",
       "    <tr>\n",
       "      <th>77</th>\n",
       "      <td>252522</td>\n",
       "      <td>7.0</td>\n",
       "      <td>Heart Rate</td>\n",
       "      <td>97</td>\n",
       "      <td>97.0</td>\n",
       "      <td>bpm</td>\n",
       "    </tr>\n",
       "    <tr>\n",
       "      <th>88</th>\n",
       "      <td>252522</td>\n",
       "      <td>8.0</td>\n",
       "      <td>Heart Rate</td>\n",
       "      <td>94</td>\n",
       "      <td>94.0</td>\n",
       "      <td>bpm</td>\n",
       "    </tr>\n",
       "    <tr>\n",
       "      <th>95</th>\n",
       "      <td>252522</td>\n",
       "      <td>9.0</td>\n",
       "      <td>Heart Rate</td>\n",
       "      <td>96</td>\n",
       "      <td>96.0</td>\n",
       "      <td>bpm</td>\n",
       "    </tr>\n",
       "    <tr>\n",
       "      <th>101</th>\n",
       "      <td>252522</td>\n",
       "      <td>10.0</td>\n",
       "      <td>Heart Rate</td>\n",
       "      <td>92</td>\n",
       "      <td>92.0</td>\n",
       "      <td>bpm</td>\n",
       "    </tr>\n",
       "    <tr>\n",
       "      <th>107</th>\n",
       "      <td>252522</td>\n",
       "      <td>11.0</td>\n",
       "      <td>Heart Rate</td>\n",
       "      <td>91</td>\n",
       "      <td>91.0</td>\n",
       "      <td>bpm</td>\n",
       "    </tr>\n",
       "    <tr>\n",
       "      <th>131</th>\n",
       "      <td>252522</td>\n",
       "      <td>12.0</td>\n",
       "      <td>Heart Rate</td>\n",
       "      <td>92</td>\n",
       "      <td>92.0</td>\n",
       "      <td>bpm</td>\n",
       "    </tr>\n",
       "    <tr>\n",
       "      <th>144</th>\n",
       "      <td>252522</td>\n",
       "      <td>13.0</td>\n",
       "      <td>Heart Rate</td>\n",
       "      <td>92</td>\n",
       "      <td>92.0</td>\n",
       "      <td>bpm</td>\n",
       "    </tr>\n",
       "    <tr>\n",
       "      <th>150</th>\n",
       "      <td>252522</td>\n",
       "      <td>14.0</td>\n",
       "      <td>Heart Rate</td>\n",
       "      <td>99</td>\n",
       "      <td>99.0</td>\n",
       "      <td>bpm</td>\n",
       "    </tr>\n",
       "    <tr>\n",
       "      <th>156</th>\n",
       "      <td>252522</td>\n",
       "      <td>15.0</td>\n",
       "      <td>Heart Rate</td>\n",
       "      <td>96</td>\n",
       "      <td>96.0</td>\n",
       "      <td>bpm</td>\n",
       "    </tr>\n",
       "    <tr>\n",
       "      <th>177</th>\n",
       "      <td>252522</td>\n",
       "      <td>16.0</td>\n",
       "      <td>Heart Rate</td>\n",
       "      <td>103</td>\n",
       "      <td>103.0</td>\n",
       "      <td>bpm</td>\n",
       "    </tr>\n",
       "    <tr>\n",
       "      <th>183</th>\n",
       "      <td>252522</td>\n",
       "      <td>17.0</td>\n",
       "      <td>Heart Rate</td>\n",
       "      <td>108</td>\n",
       "      <td>108.0</td>\n",
       "      <td>bpm</td>\n",
       "    </tr>\n",
       "    <tr>\n",
       "      <th>189</th>\n",
       "      <td>252522</td>\n",
       "      <td>18.0</td>\n",
       "      <td>Heart Rate</td>\n",
       "      <td>105</td>\n",
       "      <td>105.0</td>\n",
       "      <td>bpm</td>\n",
       "    </tr>\n",
       "    <tr>\n",
       "      <th>196</th>\n",
       "      <td>252522</td>\n",
       "      <td>19.0</td>\n",
       "      <td>Heart Rate</td>\n",
       "      <td>109</td>\n",
       "      <td>109.0</td>\n",
       "      <td>bpm</td>\n",
       "    </tr>\n",
       "    <tr>\n",
       "      <th>213</th>\n",
       "      <td>252522</td>\n",
       "      <td>20.0</td>\n",
       "      <td>Heart Rate</td>\n",
       "      <td>109</td>\n",
       "      <td>109.0</td>\n",
       "      <td>bpm</td>\n",
       "    </tr>\n",
       "    <tr>\n",
       "      <th>225</th>\n",
       "      <td>252522</td>\n",
       "      <td>21.0</td>\n",
       "      <td>Heart Rate</td>\n",
       "      <td>111</td>\n",
       "      <td>111.0</td>\n",
       "      <td>bpm</td>\n",
       "    </tr>\n",
       "    <tr>\n",
       "      <th>231</th>\n",
       "      <td>252522</td>\n",
       "      <td>22.0</td>\n",
       "      <td>Heart Rate</td>\n",
       "      <td>110</td>\n",
       "      <td>110.0</td>\n",
       "      <td>bpm</td>\n",
       "    </tr>\n",
       "    <tr>\n",
       "      <th>237</th>\n",
       "      <td>252522</td>\n",
       "      <td>23.0</td>\n",
       "      <td>Heart Rate</td>\n",
       "      <td>119</td>\n",
       "      <td>119.0</td>\n",
       "      <td>bpm</td>\n",
       "    </tr>\n",
       "    <tr>\n",
       "      <th>243</th>\n",
       "      <td>252522</td>\n",
       "      <td>24.0</td>\n",
       "      <td>Heart Rate</td>\n",
       "      <td>117</td>\n",
       "      <td>117.0</td>\n",
       "      <td>bpm</td>\n",
       "    </tr>\n",
       "    <tr>\n",
       "      <th>269</th>\n",
       "      <td>252522</td>\n",
       "      <td>25.0</td>\n",
       "      <td>Heart Rate</td>\n",
       "      <td>122</td>\n",
       "      <td>122.0</td>\n",
       "      <td>bpm</td>\n",
       "    </tr>\n",
       "    <tr>\n",
       "      <th>275</th>\n",
       "      <td>252522</td>\n",
       "      <td>26.0</td>\n",
       "      <td>Heart Rate</td>\n",
       "      <td>119</td>\n",
       "      <td>119.0</td>\n",
       "      <td>bpm</td>\n",
       "    </tr>\n",
       "    <tr>\n",
       "      <th>281</th>\n",
       "      <td>252522</td>\n",
       "      <td>27.0</td>\n",
       "      <td>Heart Rate</td>\n",
       "      <td>117</td>\n",
       "      <td>117.0</td>\n",
       "      <td>bpm</td>\n",
       "    </tr>\n",
       "    <tr>\n",
       "      <th>287</th>\n",
       "      <td>252522</td>\n",
       "      <td>28.0</td>\n",
       "      <td>Heart Rate</td>\n",
       "      <td>115</td>\n",
       "      <td>115.0</td>\n",
       "      <td>bpm</td>\n",
       "    </tr>\n",
       "    <tr>\n",
       "      <th>308</th>\n",
       "      <td>252522</td>\n",
       "      <td>29.0</td>\n",
       "      <td>Heart Rate</td>\n",
       "      <td>115</td>\n",
       "      <td>115.0</td>\n",
       "      <td>bpm</td>\n",
       "    </tr>\n",
       "    <tr>\n",
       "      <th>...</th>\n",
       "      <td>...</td>\n",
       "      <td>...</td>\n",
       "      <td>...</td>\n",
       "      <td>...</td>\n",
       "      <td>...</td>\n",
       "      <td>...</td>\n",
       "    </tr>\n",
       "    <tr>\n",
       "      <th>860</th>\n",
       "      <td>252522</td>\n",
       "      <td>86.0</td>\n",
       "      <td>Heart Rate</td>\n",
       "      <td>105</td>\n",
       "      <td>105.0</td>\n",
       "      <td>bpm</td>\n",
       "    </tr>\n",
       "    <tr>\n",
       "      <th>864</th>\n",
       "      <td>252522</td>\n",
       "      <td>87.0</td>\n",
       "      <td>Heart Rate</td>\n",
       "      <td>110</td>\n",
       "      <td>110.0</td>\n",
       "      <td>bpm</td>\n",
       "    </tr>\n",
       "    <tr>\n",
       "      <th>870</th>\n",
       "      <td>252522</td>\n",
       "      <td>88.0</td>\n",
       "      <td>Heart Rate</td>\n",
       "      <td>108</td>\n",
       "      <td>108.0</td>\n",
       "      <td>bpm</td>\n",
       "    </tr>\n",
       "    <tr>\n",
       "      <th>880</th>\n",
       "      <td>252522</td>\n",
       "      <td>89.0</td>\n",
       "      <td>Heart Rate</td>\n",
       "      <td>106</td>\n",
       "      <td>106.0</td>\n",
       "      <td>bpm</td>\n",
       "    </tr>\n",
       "    <tr>\n",
       "      <th>896</th>\n",
       "      <td>252522</td>\n",
       "      <td>90.0</td>\n",
       "      <td>Heart Rate</td>\n",
       "      <td>110</td>\n",
       "      <td>110.0</td>\n",
       "      <td>bpm</td>\n",
       "    </tr>\n",
       "    <tr>\n",
       "      <th>903</th>\n",
       "      <td>252522</td>\n",
       "      <td>91.0</td>\n",
       "      <td>Heart Rate</td>\n",
       "      <td>103</td>\n",
       "      <td>103.0</td>\n",
       "      <td>bpm</td>\n",
       "    </tr>\n",
       "    <tr>\n",
       "      <th>908</th>\n",
       "      <td>252522</td>\n",
       "      <td>92.0</td>\n",
       "      <td>Heart Rate</td>\n",
       "      <td>96</td>\n",
       "      <td>96.0</td>\n",
       "      <td>bpm</td>\n",
       "    </tr>\n",
       "    <tr>\n",
       "      <th>932</th>\n",
       "      <td>252522</td>\n",
       "      <td>93.0</td>\n",
       "      <td>Heart Rate</td>\n",
       "      <td>100</td>\n",
       "      <td>100.0</td>\n",
       "      <td>bpm</td>\n",
       "    </tr>\n",
       "    <tr>\n",
       "      <th>933</th>\n",
       "      <td>252522</td>\n",
       "      <td>94.0</td>\n",
       "      <td>Heart Rate</td>\n",
       "      <td>106</td>\n",
       "      <td>106.0</td>\n",
       "      <td>bpm</td>\n",
       "    </tr>\n",
       "    <tr>\n",
       "      <th>940</th>\n",
       "      <td>252522</td>\n",
       "      <td>95.0</td>\n",
       "      <td>Heart Rate</td>\n",
       "      <td>108</td>\n",
       "      <td>108.0</td>\n",
       "      <td>bpm</td>\n",
       "    </tr>\n",
       "    <tr>\n",
       "      <th>946</th>\n",
       "      <td>252522</td>\n",
       "      <td>96.0</td>\n",
       "      <td>Heart Rate</td>\n",
       "      <td>105</td>\n",
       "      <td>105.0</td>\n",
       "      <td>bpm</td>\n",
       "    </tr>\n",
       "    <tr>\n",
       "      <th>979</th>\n",
       "      <td>252522</td>\n",
       "      <td>97.0</td>\n",
       "      <td>Heart Rate</td>\n",
       "      <td>131</td>\n",
       "      <td>131.0</td>\n",
       "      <td>bpm</td>\n",
       "    </tr>\n",
       "    <tr>\n",
       "      <th>985</th>\n",
       "      <td>252522</td>\n",
       "      <td>98.0</td>\n",
       "      <td>Heart Rate</td>\n",
       "      <td>106</td>\n",
       "      <td>106.0</td>\n",
       "      <td>bpm</td>\n",
       "    </tr>\n",
       "    <tr>\n",
       "      <th>991</th>\n",
       "      <td>252522</td>\n",
       "      <td>99.0</td>\n",
       "      <td>Heart Rate</td>\n",
       "      <td>96</td>\n",
       "      <td>96.0</td>\n",
       "      <td>bpm</td>\n",
       "    </tr>\n",
       "    <tr>\n",
       "      <th>997</th>\n",
       "      <td>252522</td>\n",
       "      <td>100.0</td>\n",
       "      <td>Heart Rate</td>\n",
       "      <td>97</td>\n",
       "      <td>97.0</td>\n",
       "      <td>bpm</td>\n",
       "    </tr>\n",
       "    <tr>\n",
       "      <th>1015</th>\n",
       "      <td>252522</td>\n",
       "      <td>101.0</td>\n",
       "      <td>Heart Rate</td>\n",
       "      <td>96</td>\n",
       "      <td>96.0</td>\n",
       "      <td>bpm</td>\n",
       "    </tr>\n",
       "    <tr>\n",
       "      <th>1021</th>\n",
       "      <td>252522</td>\n",
       "      <td>102.0</td>\n",
       "      <td>Heart Rate</td>\n",
       "      <td>96</td>\n",
       "      <td>96.0</td>\n",
       "      <td>bpm</td>\n",
       "    </tr>\n",
       "    <tr>\n",
       "      <th>1027</th>\n",
       "      <td>252522</td>\n",
       "      <td>103.0</td>\n",
       "      <td>Heart Rate</td>\n",
       "      <td>95</td>\n",
       "      <td>95.0</td>\n",
       "      <td>bpm</td>\n",
       "    </tr>\n",
       "    <tr>\n",
       "      <th>1033</th>\n",
       "      <td>252522</td>\n",
       "      <td>104.0</td>\n",
       "      <td>Heart Rate</td>\n",
       "      <td>94</td>\n",
       "      <td>94.0</td>\n",
       "      <td>bpm</td>\n",
       "    </tr>\n",
       "    <tr>\n",
       "      <th>1045</th>\n",
       "      <td>252522</td>\n",
       "      <td>105.0</td>\n",
       "      <td>Heart Rate</td>\n",
       "      <td>95</td>\n",
       "      <td>95.0</td>\n",
       "      <td>bpm</td>\n",
       "    </tr>\n",
       "    <tr>\n",
       "      <th>1051</th>\n",
       "      <td>252522</td>\n",
       "      <td>106.0</td>\n",
       "      <td>Heart Rate</td>\n",
       "      <td>98</td>\n",
       "      <td>98.0</td>\n",
       "      <td>bpm</td>\n",
       "    </tr>\n",
       "    <tr>\n",
       "      <th>1057</th>\n",
       "      <td>252522</td>\n",
       "      <td>107.0</td>\n",
       "      <td>Heart Rate</td>\n",
       "      <td>86</td>\n",
       "      <td>86.0</td>\n",
       "      <td>bpm</td>\n",
       "    </tr>\n",
       "    <tr>\n",
       "      <th>1069</th>\n",
       "      <td>252522</td>\n",
       "      <td>108.0</td>\n",
       "      <td>Heart Rate</td>\n",
       "      <td>83</td>\n",
       "      <td>83.0</td>\n",
       "      <td>bpm</td>\n",
       "    </tr>\n",
       "    <tr>\n",
       "      <th>1092</th>\n",
       "      <td>252522</td>\n",
       "      <td>109.0</td>\n",
       "      <td>Heart Rate</td>\n",
       "      <td>87</td>\n",
       "      <td>87.0</td>\n",
       "      <td>bpm</td>\n",
       "    </tr>\n",
       "    <tr>\n",
       "      <th>1098</th>\n",
       "      <td>252522</td>\n",
       "      <td>111.0</td>\n",
       "      <td>Heart Rate</td>\n",
       "      <td>88</td>\n",
       "      <td>88.0</td>\n",
       "      <td>bpm</td>\n",
       "    </tr>\n",
       "    <tr>\n",
       "      <th>1104</th>\n",
       "      <td>252522</td>\n",
       "      <td>112.0</td>\n",
       "      <td>Heart Rate</td>\n",
       "      <td>85</td>\n",
       "      <td>85.0</td>\n",
       "      <td>bpm</td>\n",
       "    </tr>\n",
       "    <tr>\n",
       "      <th>1122</th>\n",
       "      <td>252522</td>\n",
       "      <td>113.0</td>\n",
       "      <td>Heart Rate</td>\n",
       "      <td>90</td>\n",
       "      <td>90.0</td>\n",
       "      <td>bpm</td>\n",
       "    </tr>\n",
       "    <tr>\n",
       "      <th>1128</th>\n",
       "      <td>252522</td>\n",
       "      <td>114.0</td>\n",
       "      <td>Heart Rate</td>\n",
       "      <td>89</td>\n",
       "      <td>89.0</td>\n",
       "      <td>bpm</td>\n",
       "    </tr>\n",
       "    <tr>\n",
       "      <th>1134</th>\n",
       "      <td>252522</td>\n",
       "      <td>115.0</td>\n",
       "      <td>Heart Rate</td>\n",
       "      <td>83</td>\n",
       "      <td>83.0</td>\n",
       "      <td>bpm</td>\n",
       "    </tr>\n",
       "    <tr>\n",
       "      <th>1140</th>\n",
       "      <td>252522</td>\n",
       "      <td>116.0</td>\n",
       "      <td>Heart Rate</td>\n",
       "      <td>80</td>\n",
       "      <td>80.0</td>\n",
       "      <td>bpm</td>\n",
       "    </tr>\n",
       "  </tbody>\n",
       "</table>\n",
       "<p>116 rows × 6 columns</p>\n",
       "</div>"
      ],
      "text/plain": [
       "      ICUSTAY_ID  HOURS       LABEL VALUE  VALUENUM  UOM\n",
       "0         252522    1.0  Heart Rate    90      90.0  bpm\n",
       "6         252522    1.0  Heart Rate    86      86.0  bpm\n",
       "24        252522    2.0  Heart Rate    94      94.0  bpm\n",
       "30        252522    3.0  Heart Rate    91      91.0  bpm\n",
       "36        252522    4.0  Heart Rate    95      95.0  bpm\n",
       "58        252522    5.0  Heart Rate    90      90.0  bpm\n",
       "67        252522    6.0  Heart Rate    93      93.0  bpm\n",
       "77        252522    7.0  Heart Rate    97      97.0  bpm\n",
       "88        252522    8.0  Heart Rate    94      94.0  bpm\n",
       "95        252522    9.0  Heart Rate    96      96.0  bpm\n",
       "101       252522   10.0  Heart Rate    92      92.0  bpm\n",
       "107       252522   11.0  Heart Rate    91      91.0  bpm\n",
       "131       252522   12.0  Heart Rate    92      92.0  bpm\n",
       "144       252522   13.0  Heart Rate    92      92.0  bpm\n",
       "150       252522   14.0  Heart Rate    99      99.0  bpm\n",
       "156       252522   15.0  Heart Rate    96      96.0  bpm\n",
       "177       252522   16.0  Heart Rate   103     103.0  bpm\n",
       "183       252522   17.0  Heart Rate   108     108.0  bpm\n",
       "189       252522   18.0  Heart Rate   105     105.0  bpm\n",
       "196       252522   19.0  Heart Rate   109     109.0  bpm\n",
       "213       252522   20.0  Heart Rate   109     109.0  bpm\n",
       "225       252522   21.0  Heart Rate   111     111.0  bpm\n",
       "231       252522   22.0  Heart Rate   110     110.0  bpm\n",
       "237       252522   23.0  Heart Rate   119     119.0  bpm\n",
       "243       252522   24.0  Heart Rate   117     117.0  bpm\n",
       "269       252522   25.0  Heart Rate   122     122.0  bpm\n",
       "275       252522   26.0  Heart Rate   119     119.0  bpm\n",
       "281       252522   27.0  Heart Rate   117     117.0  bpm\n",
       "287       252522   28.0  Heart Rate   115     115.0  bpm\n",
       "308       252522   29.0  Heart Rate   115     115.0  bpm\n",
       "...          ...    ...         ...   ...       ...  ...\n",
       "860       252522   86.0  Heart Rate   105     105.0  bpm\n",
       "864       252522   87.0  Heart Rate   110     110.0  bpm\n",
       "870       252522   88.0  Heart Rate   108     108.0  bpm\n",
       "880       252522   89.0  Heart Rate   106     106.0  bpm\n",
       "896       252522   90.0  Heart Rate   110     110.0  bpm\n",
       "903       252522   91.0  Heart Rate   103     103.0  bpm\n",
       "908       252522   92.0  Heart Rate    96      96.0  bpm\n",
       "932       252522   93.0  Heart Rate   100     100.0  bpm\n",
       "933       252522   94.0  Heart Rate   106     106.0  bpm\n",
       "940       252522   95.0  Heart Rate   108     108.0  bpm\n",
       "946       252522   96.0  Heart Rate   105     105.0  bpm\n",
       "979       252522   97.0  Heart Rate   131     131.0  bpm\n",
       "985       252522   98.0  Heart Rate   106     106.0  bpm\n",
       "991       252522   99.0  Heart Rate    96      96.0  bpm\n",
       "997       252522  100.0  Heart Rate    97      97.0  bpm\n",
       "1015      252522  101.0  Heart Rate    96      96.0  bpm\n",
       "1021      252522  102.0  Heart Rate    96      96.0  bpm\n",
       "1027      252522  103.0  Heart Rate    95      95.0  bpm\n",
       "1033      252522  104.0  Heart Rate    94      94.0  bpm\n",
       "1045      252522  105.0  Heart Rate    95      95.0  bpm\n",
       "1051      252522  106.0  Heart Rate    98      98.0  bpm\n",
       "1057      252522  107.0  Heart Rate    86      86.0  bpm\n",
       "1069      252522  108.0  Heart Rate    83      83.0  bpm\n",
       "1092      252522  109.0  Heart Rate    87      87.0  bpm\n",
       "1098      252522  111.0  Heart Rate    88      88.0  bpm\n",
       "1104      252522  112.0  Heart Rate    85      85.0  bpm\n",
       "1122      252522  113.0  Heart Rate    90      90.0  bpm\n",
       "1128      252522  114.0  Heart Rate    89      89.0  bpm\n",
       "1134      252522  115.0  Heart Rate    83      83.0  bpm\n",
       "1140      252522  116.0  Heart Rate    80      80.0  bpm\n",
       "\n",
       "[116 rows x 6 columns]"
      ]
     },
     "execution_count": 164,
     "metadata": {},
     "output_type": "execute_result"
    }
   ],
   "source": [
    "# Select just the heart rate rows using an index\n",
    "ce[ce.LABEL=='Heart Rate']"
   ]
  },
  {
   "cell_type": "markdown",
   "metadata": {},
   "source": [
    "#### Plot 1: How did the patients heart rate change over time?"
   ]
  },
  {
   "cell_type": "markdown",
   "metadata": {},
   "source": [
    "- Using the methods described above to select our data of interest, we can create our x and y axis values to create a time series plot of heart rate."
   ]
  },
  {
   "cell_type": "code",
   "execution_count": 165,
   "metadata": {},
   "outputs": [
    {
     "name": "stdout",
     "output_type": "stream",
     "text": [
      "Int64Index([   0,    6,   24,   30,   36,   58,   67,   77,   88,   95,\n",
      "            ...\n",
      "            1051, 1057, 1069, 1092, 1098, 1104, 1122, 1128, 1134, 1140],\n",
      "           dtype='int64', length=116)\n"
     ]
    }
   ],
   "source": [
    "# Which time stamps have a corresponding heart rate measurement?\n",
    "print (ce.index[ce.LABEL=='Heart Rate'])"
   ]
  },
  {
   "cell_type": "code",
   "execution_count": 166,
   "metadata": {
    "scrolled": true
   },
   "outputs": [
    {
     "data": {
      "text/plain": [
       "Text(0.5,1,'Heart rate over time from admission to the intensive care unit')"
      ]
     },
     "execution_count": 166,
     "metadata": {},
     "output_type": "execute_result"
    },
    {
     "data": {
      "image/png": "[encoded data removed]",
      "text/plain": [
       "<matplotlib.figure.Figure at 0xe381e10>"
      ]
     },
     "metadata": {},
     "output_type": "display_data"
    }
   ],
   "source": [
    "# Set x equal to the times\n",
    "x_hr = ce.HOURS[ce.LABEL=='Heart Rate']\n",
    "\n",
    "# Set y equal to the heart rates\n",
    "y_hr = ce.VALUENUM[ce.LABEL=='Heart Rate']\n",
    "\n",
    "# Plot time against heart rate\n",
    "plt.figure(figsize=(14, 6))\n",
    "plt.plot(x_hr,y_hr)\n",
    "\n",
    "\n",
    "plt.xlabel('Time',fontsize=16)\n",
    "plt.ylabel('Heart rate',fontsize=16)\n",
    "plt.title('Heart rate over time from admission to the intensive care unit')"
   ]
  },
  {
   "cell_type": "markdown",
   "metadata": {},
   "source": [
    "#### Task 1\n",
    "\n",
    "* What is happening to this patient's heart rate?\n",
    "* Plot respiratory rate over time for the patient.\n",
    "* Is there anything unusual about the patient's respiratory rate?\n"
   ]
  },
  {
   "cell_type": "markdown",
   "metadata": {},
   "source": [
    "# Exercise 1 here\n",
    "\n"
   ]
  },
  {
   "cell_type": "markdown",
   "metadata": {},
   "source": [
    "###  a): What is happening to this patient's heart rate?\n",
    "Ans: The Heart Rate of this patiante was fluctuating between 80 and 140, at the starting hours it was near to 80 and then going to increase but with fluctations(ups and downs not continuously) and between 50 and 70 this was the peak value while onward 110 decreased to normall."
   ]
  },
  {
   "cell_type": "markdown",
   "metadata": {},
   "source": [
    "### b): Plot respiratory rate over time for the patient.\n"
   ]
  },
  {
   "cell_type": "code",
   "execution_count": 167,
   "metadata": {},
   "outputs": [
    {
     "data": {
      "text/plain": [
       "Text(0.5,1,'Respiratory rate over time from admission to the intensive care unit')"
      ]
     },
     "execution_count": 167,
     "metadata": {},
     "output_type": "execute_result"
    },
    {
     "data": {
      "image/png": "[encoded data removed]",
      "text/plain": [
       "<matplotlib.figure.Figure at 0xeae72d0>"
      ]
     },
     "metadata": {},
     "output_type": "display_data"
    }
   ],
   "source": [
    "# Set x equal to the times\n",
    "x_hr = ce.HOURS[ce.LABEL=='Respiratory Rate']\n",
    "\n",
    "# Set y equal to the heart rates\n",
    "y_hr = ce.VALUENUM[ce.LABEL=='Respiratory Rate']\n",
    "\n",
    "# Plot time against heart rate\n",
    "plt.figure(figsize=(14, 6))\n",
    "plt.plot(x_hr,y_hr)\n",
    "\n",
    "\n",
    "plt.xlabel('Time',fontsize=16)\n",
    "plt.ylabel('Respiratory rate',fontsize=16)\n",
    "plt.title('Respiratory rate over time from admission to the intensive care unit')"
   ]
  },
  {
   "cell_type": "markdown",
   "metadata": {},
   "source": [
    "### c): Is there anything unusual about the patient's respiratory rate?\n",
    "The normal respiration rate for an adult at rest is 12 to 20 breaths per minute. A respiration rate under 12 or over 25 breaths per minute while resting is considered abnormal.\n",
    "While very few hours it was under normal curve but almost above the normal threshold (20).\n"
   ]
  },
  {
   "cell_type": "markdown",
   "metadata": {},
   "source": [
    "### Did the patient's vital signs breach any alarm thresholds?"
   ]
  },
  {
   "cell_type": "markdown",
   "metadata": {},
   "source": [
    "- Alarm systems in the intensive care unit are commonly based on high and low thresholds defined by the carer.\n",
    "- False alarms are often a problem and so thresholds may be set arbitrarily to reduce alarms.\n",
    "- As a result, alarm settings carry limited information."
   ]
  },
  {
   "cell_type": "markdown",
   "metadata": {},
   "source": [
    "#### Plot 2: Respiratory rate and alarms"
   ]
  },
  {
   "cell_type": "code",
   "execution_count": 168,
   "metadata": {},
   "outputs": [
    {
     "data": {
      "text/plain": [
       "(0, 55)"
      ]
     },
     "execution_count": 168,
     "metadata": {},
     "output_type": "execute_result"
    },
    {
     "data": {
      "image/png": "[encoded data removed]",
      "text/plain": [
       "<matplotlib.figure.Figure at 0xea85bd0>"
      ]
     },
     "metadata": {},
     "output_type": "display_data"
    }
   ],
   "source": [
    "plt.figure(figsize=(14, 6))\n",
    "\n",
    "plt.plot(ce.HOURS[ce.LABEL=='Respiratory Rate'], \n",
    "         ce.VALUENUM[ce.LABEL=='Respiratory Rate'],\n",
    "         'k+', markersize=10, linewidth=4)\n",
    "\n",
    "plt.plot(ce.HOURS[ce.LABEL=='Resp Alarm - High'], \n",
    "         ce.VALUENUM[ce.LABEL=='Resp Alarm - High'],\n",
    "         'm--')\n",
    "\n",
    "plt.plot(ce.HOURS[ce.LABEL=='Resp Alarm - Low'], \n",
    "         ce.VALUENUM[ce.LABEL=='Resp Alarm - Low'],\n",
    "         'm--')\n",
    "\n",
    "plt.xlabel('Time',fontsize=16)\n",
    "plt.ylabel('Respiratory rate',fontsize=16)\n",
    "plt.title('Respiratory rate over time from admission, with upper and lower alarm thresholds')\n",
    "plt.ylim(0,55)\n"
   ]
  },
  {
   "cell_type": "markdown",
   "metadata": {},
   "source": [
    "#### Task 2\n",
    "\n",
    "- Based on the data, does it look like the alarms would have triggered for this patient?\n",
    "\n",
    "###### Ans: Obviously, These alarms are triggered for the same patient. Look toward both figures the ups and downs are the same.\n"
   ]
  },
  {
   "cell_type": "markdown",
   "metadata": {},
   "source": [
    "### What was the patient's level of consciousness?"
   ]
  },
  {
   "cell_type": "markdown",
   "metadata": {},
   "source": [
    "- Glasgow Coma Scale (GCS) is a measure of consciousness.\n",
    "- It is commonly used for monitoring patients in the intensive care unit. \n",
    "- It consists of three components: eye response; verbal response; motor response."
   ]
  },
  {
   "cell_type": "code",
   "execution_count": 169,
   "metadata": {},
   "outputs": [
    {
     "data": {
      "text/html": [
       "<div>\n",
       "<style>\n",
       "    .dataframe thead tr:only-child th {\n",
       "        text-align: right;\n",
       "    }\n",
       "\n",
       "    .dataframe thead th {\n",
       "        text-align: left;\n",
       "    }\n",
       "\n",
       "    .dataframe tbody tr th {\n",
       "        vertical-align: top;\n",
       "    }\n",
       "</style>\n",
       "<table border=\"1\" class=\"dataframe\">\n",
       "  <thead>\n",
       "    <tr style=\"text-align: right;\">\n",
       "      <th></th>\n",
       "      <th>ICUSTAY_ID</th>\n",
       "      <th>HOURS</th>\n",
       "      <th>LABEL</th>\n",
       "      <th>VALUE</th>\n",
       "      <th>VALUENUM</th>\n",
       "      <th>UOM</th>\n",
       "    </tr>\n",
       "  </thead>\n",
       "  <tbody>\n",
       "    <tr>\n",
       "      <th>20</th>\n",
       "      <td>252522</td>\n",
       "      <td>1.0</td>\n",
       "      <td>GCS - Eye Opening</td>\n",
       "      <td>Spontaneously</td>\n",
       "      <td>4.0</td>\n",
       "      <td></td>\n",
       "    </tr>\n",
       "    <tr>\n",
       "      <th>55</th>\n",
       "      <td>252522</td>\n",
       "      <td>4.0</td>\n",
       "      <td>GCS - Eye Opening</td>\n",
       "      <td>Spontaneously</td>\n",
       "      <td>4.0</td>\n",
       "      <td></td>\n",
       "    </tr>\n",
       "    <tr>\n",
       "      <th>92</th>\n",
       "      <td>252522</td>\n",
       "      <td>8.0</td>\n",
       "      <td>GCS - Eye Opening</td>\n",
       "      <td>To Speech</td>\n",
       "      <td>3.0</td>\n",
       "      <td></td>\n",
       "    </tr>\n",
       "    <tr>\n",
       "      <th>142</th>\n",
       "      <td>252522</td>\n",
       "      <td>12.0</td>\n",
       "      <td>GCS - Eye Opening</td>\n",
       "      <td>To Speech</td>\n",
       "      <td>3.0</td>\n",
       "      <td></td>\n",
       "    </tr>\n",
       "    <tr>\n",
       "      <th>180</th>\n",
       "      <td>252522</td>\n",
       "      <td>16.0</td>\n",
       "      <td>GCS - Eye Opening</td>\n",
       "      <td>Spontaneously</td>\n",
       "      <td>4.0</td>\n",
       "      <td></td>\n",
       "    </tr>\n",
       "  </tbody>\n",
       "</table>\n",
       "</div>"
      ],
      "text/plain": [
       "     ICUSTAY_ID  HOURS              LABEL          VALUE  VALUENUM UOM\n",
       "20       252522    1.0  GCS - Eye Opening  Spontaneously       4.0    \n",
       "55       252522    4.0  GCS - Eye Opening  Spontaneously       4.0    \n",
       "92       252522    8.0  GCS - Eye Opening      To Speech       3.0    \n",
       "142      252522   12.0  GCS - Eye Opening      To Speech       3.0    \n",
       "180      252522   16.0  GCS - Eye Opening  Spontaneously       4.0    "
      ]
     },
     "execution_count": 169,
     "metadata": {},
     "output_type": "execute_result"
    }
   ],
   "source": [
    "# Display the first few rows of the GCS eye response data\n",
    "ce[ce.LABEL=='GCS - Eye Opening'].head()"
   ]
  },
  {
   "cell_type": "markdown",
   "metadata": {},
   "source": [
    "#### Plot 3: GCS over time"
   ]
  },
  {
   "cell_type": "code",
   "execution_count": 170,
   "metadata": {},
   "outputs": [
    {
     "data": {
      "text/plain": [
       "(10, 165)"
      ]
     },
     "execution_count": 170,
     "metadata": {},
     "output_type": "execute_result"
    },
    {
     "data": {
      "image/png": "[encoded data removed]",
      "text/plain": [
       "<matplotlib.figure.Figure at 0xeb30e90>"
      ]
     },
     "metadata": {},
     "output_type": "display_data"
    }
   ],
   "source": [
    "# Prepare the size of the figure\n",
    "plt.figure(figsize=(18, 20))\n",
    "\n",
    "# Set x equal to the times\n",
    "x_hr = ce.HOURS[ce.LABEL=='Heart Rate']\n",
    "\n",
    "# Set y equal to the heart rates\n",
    "y_hr = ce.VALUENUM[ce.LABEL=='Heart Rate']\n",
    "\n",
    "\n",
    "plt.plot(x_hr,y_hr)\n",
    "\n",
    "plt.plot(ce.HOURS[ce.LABEL=='Respiratory Rate'], \n",
    "         ce.VALUENUM[ce.LABEL=='Respiratory Rate'],\n",
    "         'k', markersize=6)\n",
    "\n",
    "# Add a text label to the y-axis\n",
    "plt.text(-20,155,'GCS - Eye Opening',fontsize=14)\n",
    "plt.text(-20,150,'GCS - Motor Response',fontsize=14)\n",
    "plt.text(-20,145,'GCS - Verbal Response',fontsize=14) \n",
    "# plt.text(-20, 140, 'GCS Values', fontsize=20)\n",
    "\n",
    "# Iterate over list of GCS labels, plotting around 1 in 10 to avoid overlap\n",
    "for i, txt in enumerate(ce.VALUE[ce.LABEL=='GCS - Eye Opening'].values):\n",
    "    if np.mod(i,6)==0 and i < 65:\n",
    "        plt.annotate(txt, (ce.HOURS[ce.LABEL=='GCS - Eye Opening'].values[i],155),fontsize=14)\n",
    "        \n",
    "for i, txt in enumerate(ce.VALUE[ce.LABEL=='GCS - Motor Response'].values):\n",
    "    if np.mod(i,6)==0 and i < 65:\n",
    "        plt.annotate(txt, (ce.HOURS[ce.LABEL=='GCS - Motor Response'].values[i],150),fontsize=14)\n",
    "\n",
    "for i, txt in enumerate(ce.VALUE[ce.LABEL=='GCS - Verbal Response'].values):\n",
    "    if np.mod(i,6)==0 and i < 65:\n",
    "        plt.annotate(txt, (ce.HOURS[ce.LABEL=='GCS - Verbal Response'].values[i],145),fontsize=14)\n",
    "\n",
    "plt.title('Vital signs and Glasgow Coma Scale over time from admission',fontsize=16)\n",
    "\n",
    "plt.xlabel('Time (hours)',fontsize=16)\n",
    "plt.ylabel('Heart rate or GCS',fontsize=16)\n",
    "plt.ylim(10,165)\n"
   ]
  },
  {
   "cell_type": "markdown",
   "metadata": {},
   "source": [
    "#### Task 3\n",
    "\n",
    "- How is the patient's consciousness changing over time?"
   ]
  },
  {
   "cell_type": "markdown",
   "metadata": {},
   "source": [
    "### Task # 3 Start"
   ]
  },
  {
   "cell_type": "code",
   "execution_count": 171,
   "metadata": {},
   "outputs": [
    {
     "data": {
      "text/plain": [
       "[<matplotlib.lines.Line2D at 0xafde130>]"
      ]
     },
     "execution_count": 171,
     "metadata": {},
     "output_type": "execute_result"
    },
    {
     "data": {
      "image/png": "[encoded data removed]",
      "text/plain": [
       "<matplotlib.figure.Figure at 0xeb113b0>"
      ]
     },
     "metadata": {},
     "output_type": "display_data"
    }
   ],
   "source": [
    "A = []\n",
    "B = []\n",
    "C = []\n",
    "time = []\n",
    "\n",
    "\n",
    "for i, txt in enumerate(ce.VALUENUM[ce.LABEL=='GCS - Eye Opening'].values):\n",
    "    if np.mod(i,6)==0 and i < 65:\n",
    "            A.append(txt)\n",
    "for i, txt in enumerate(ce.VALUENUM[ce.LABEL=='GCS - Motor Response'].values):\n",
    "    if np.mod(i,6)==0 and i < 65:\n",
    "        B.append(txt)\n",
    "for i, txt in enumerate(ce.VALUENUM[ce.LABEL=='GCS - Verbal Response'].values):\n",
    "    if np.mod(i,6)==0 and i < 65:\n",
    "        C.append(txt)\n",
    "for i, txt in enumerate(ce.HOURS[ce.LABEL=='GCS - Verbal Response'].values):\n",
    "    if np.mod(i,6)==0 and i < 65:\n",
    "        time.append(txt)\n",
    "        \n",
    "gcs = [a+b+c for a,b,c in zip(A,B,C)]\n",
    "\n",
    "# Prepare the size of the figure\n",
    "plt.figure(figsize=(6, 4))\n",
    "\n",
    "plt.xlabel('Hours', fontsize= 20)\n",
    "plt.ylabel('GCS', fontsize= 20)\n",
    "\n",
    "plt.plot(time,gcs)"
   ]
  },
  {
   "cell_type": "markdown",
   "metadata": {},
   "source": [
    "#### * GCS = Eye opening + Verbal Response + Motor Response\n",
    "A Coma Score of 13 or higher correlates with a mild brain injury, 9 to 12 is a moderate injury and 8 or less a severe brain injury or said to be in coma.\n",
    "In this case only fully awaked at 70(between 60 and 80) only."
   ]
  },
  {
   "cell_type": "markdown",
   "metadata": {},
   "source": [
    "### Task 3 End."
   ]
  },
  {
   "cell_type": "markdown",
   "metadata": {},
   "source": [
    "## What about the patient's other vital signs?"
   ]
  },
  {
   "cell_type": "markdown",
   "metadata": {},
   "source": [
    "We can visualise on a single plot several vital signs for out patient."
   ]
  },
  {
   "cell_type": "markdown",
   "metadata": {},
   "source": [
    "#### Plot 4: Were the patient's other vital signs stable?"
   ]
  },
  {
   "cell_type": "code",
   "execution_count": 172,
   "metadata": {},
   "outputs": [
    {
     "data": {
      "text/plain": [
       "<matplotlib.legend.Legend at 0xb0175b0>"
      ]
     },
     "execution_count": 172,
     "metadata": {},
     "output_type": "execute_result"
    },
    {
     "data": {
      "image/png": "[encoded data removed]",
      "text/plain": [
       "<matplotlib.figure.Figure at 0xe6a0b90>"
      ]
     },
     "metadata": {},
     "output_type": "display_data"
    }
   ],
   "source": [
    "plt.figure(figsize=(14, 10))\n",
    "\n",
    "plt.plot(ce.index[ce.LABEL=='Heart Rate'], \n",
    "         ce.VALUENUM[ce.LABEL=='Heart Rate'],\n",
    "         'rx', markersize=8, label='Heart Rate')\n",
    "\n",
    "plt.plot(ce.index[ce.LABEL=='O2 saturation pulseoxymetry'], \n",
    "         ce.VALUENUM[ce.LABEL=='O2 saturation pulseoxymetry'], \n",
    "         'g.', markersize=8, label='O2 Sauration pluseoxymetry')\n",
    "\n",
    "plt.plot(ce.index[ce.LABEL=='Non Invasive Blood Pressure mean'], \n",
    "         ce.VALUENUM[ce.LABEL=='Non Invasive Blood Pressure mean'], \n",
    "         'bv', markersize=8, label='Non Invasive BP mean')\n",
    "\n",
    "plt.plot(ce.index[ce.LABEL=='Respiratory Rate'], \n",
    "         ce.VALUENUM[ce.LABEL=='Respiratory Rate'], \n",
    "         'k+', markersize=8, label='Respiratory Rate')\n",
    "\n",
    "plt.title('Vital signs over time from admission')\n",
    "plt.ylim(0,130)\n",
    "plt.legend()"
   ]
  },
  {
   "cell_type": "markdown",
   "metadata": {},
   "source": [
    "## Laboratory measurements"
   ]
  },
  {
   "cell_type": "markdown",
   "metadata": {},
   "source": [
    "Using Pandas 'read_csv function' again, we'll now load the labevents data.\n",
    "This data corresponds to measurements made in a laboratory - usually on a sample of patient blood. "
   ]
  },
  {
   "cell_type": "code",
   "execution_count": 173,
   "metadata": {},
   "outputs": [],
   "source": [
    "# OPTION 1: load labevents data using the database connection\n",
    "query = \"\"\"\n",
    "SELECT de.subject_id\n",
    "  , de.charttime\n",
    "  , di.label, de.value, de.valuenum\n",
    "  , de.uom\n",
    "FROM labevents de\n",
    "INNER JOIN d_labitems di\n",
    "  ON de.itemid = di.itemid\n",
    "where de.subject_id = 40080\n",
    "\"\"\"\n",
    "\n",
    "le = pd.read_sql_query(query,conn)\n",
    "\n",
    "# OPTION 2: load labevents from the CSV file\n",
    "# le = pd.read_csv('data/example_labevents.csv', index_col='HOURSSINCEADMISSION')"
   ]
  },
  {
   "cell_type": "code",
   "execution_count": 174,
   "metadata": {},
   "outputs": [
    {
     "data": {
      "text/html": [
       "<div>\n",
       "<style>\n",
       "    .dataframe thead tr:only-child th {\n",
       "        text-align: right;\n",
       "    }\n",
       "\n",
       "    .dataframe thead th {\n",
       "        text-align: left;\n",
       "    }\n",
       "\n",
       "    .dataframe tbody tr th {\n",
       "        vertical-align: top;\n",
       "    }\n",
       "</style>\n",
       "<table border=\"1\" class=\"dataframe\">\n",
       "  <thead>\n",
       "    <tr style=\"text-align: right;\">\n",
       "      <th></th>\n",
       "      <th>SUBJECT_ID</th>\n",
       "      <th>CHARTTIME</th>\n",
       "      <th>LABEL</th>\n",
       "      <th>VALUE</th>\n",
       "      <th>VALUENUM</th>\n",
       "      <th>UOM</th>\n",
       "    </tr>\n",
       "  </thead>\n",
       "  <tbody>\n",
       "    <tr>\n",
       "      <th>0</th>\n",
       "      <td>40080</td>\n",
       "      <td>2106-05-31 13:18:00</td>\n",
       "      <td>ALANINE AMINOTRANSFERASE (ALT)</td>\n",
       "      <td>10</td>\n",
       "      <td>10.0</td>\n",
       "      <td>IU/L</td>\n",
       "    </tr>\n",
       "    <tr>\n",
       "      <th>1</th>\n",
       "      <td>40080</td>\n",
       "      <td>2106-05-31 13:18:00</td>\n",
       "      <td>ALBUMIN</td>\n",
       "      <td>2.5</td>\n",
       "      <td>2.5</td>\n",
       "      <td>g/dL</td>\n",
       "    </tr>\n",
       "    <tr>\n",
       "      <th>2</th>\n",
       "      <td>40080</td>\n",
       "      <td>2106-05-31 13:18:00</td>\n",
       "      <td>ALKALINE PHOSPHATASE</td>\n",
       "      <td>126</td>\n",
       "      <td>126.0</td>\n",
       "      <td>IU/L</td>\n",
       "    </tr>\n",
       "    <tr>\n",
       "      <th>3</th>\n",
       "      <td>40080</td>\n",
       "      <td>2106-05-31 13:18:00</td>\n",
       "      <td>ANION GAP</td>\n",
       "      <td>12</td>\n",
       "      <td>12.0</td>\n",
       "      <td>mEq/L</td>\n",
       "    </tr>\n",
       "    <tr>\n",
       "      <th>4</th>\n",
       "      <td>40080</td>\n",
       "      <td>2106-05-31 13:18:00</td>\n",
       "      <td>ASPARATE AMINOTRANSFERASE (AST)</td>\n",
       "      <td>28</td>\n",
       "      <td>28.0</td>\n",
       "      <td>IU/L</td>\n",
       "    </tr>\n",
       "  </tbody>\n",
       "</table>\n",
       "</div>"
      ],
      "text/plain": [
       "   SUBJECT_ID            CHARTTIME                            LABEL VALUE  \\\n",
       "0       40080  2106-05-31 13:18:00   ALANINE AMINOTRANSFERASE (ALT)    10   \n",
       "1       40080  2106-05-31 13:18:00                          ALBUMIN   2.5   \n",
       "2       40080  2106-05-31 13:18:00             ALKALINE PHOSPHATASE   126   \n",
       "3       40080  2106-05-31 13:18:00                        ANION GAP    12   \n",
       "4       40080  2106-05-31 13:18:00  ASPARATE AMINOTRANSFERASE (AST)    28   \n",
       "\n",
       "   VALUENUM    UOM  \n",
       "0      10.0   IU/L  \n",
       "1       2.5   g/dL  \n",
       "2     126.0   IU/L  \n",
       "3      12.0  mEq/L  \n",
       "4      28.0   IU/L  "
      ]
     },
     "execution_count": 174,
     "metadata": {},
     "output_type": "execute_result"
    }
   ],
   "source": [
    "# preview the labevents data\n",
    "le.head()"
   ]
  },
  {
   "cell_type": "code",
   "execution_count": 175,
   "metadata": {},
   "outputs": [
    {
     "data": {
      "text/html": [
       "<div>\n",
       "<style>\n",
       "    .dataframe thead tr:only-child th {\n",
       "        text-align: right;\n",
       "    }\n",
       "\n",
       "    .dataframe thead th {\n",
       "        text-align: left;\n",
       "    }\n",
       "\n",
       "    .dataframe tbody tr th {\n",
       "        vertical-align: top;\n",
       "    }\n",
       "</style>\n",
       "<table border=\"1\" class=\"dataframe\">\n",
       "  <thead>\n",
       "    <tr style=\"text-align: right;\">\n",
       "      <th></th>\n",
       "      <th>SUBJECT_ID</th>\n",
       "      <th>CHARTTIME</th>\n",
       "      <th>LABEL</th>\n",
       "      <th>VALUE</th>\n",
       "      <th>VALUENUM</th>\n",
       "      <th>UOM</th>\n",
       "    </tr>\n",
       "  </thead>\n",
       "  <tbody>\n",
       "    <tr>\n",
       "      <th>23</th>\n",
       "      <td>40080</td>\n",
       "      <td>2106-05-31 13:18:00</td>\n",
       "      <td>HEMOGLOBIN</td>\n",
       "      <td>9.1</td>\n",
       "      <td>9.1</td>\n",
       "      <td>g/dL</td>\n",
       "    </tr>\n",
       "    <tr>\n",
       "      <th>40</th>\n",
       "      <td>40080</td>\n",
       "      <td>2106-06-02 03:31:00</td>\n",
       "      <td>HEMOGLOBIN</td>\n",
       "      <td>8.8</td>\n",
       "      <td>8.8</td>\n",
       "      <td>g/dL</td>\n",
       "    </tr>\n",
       "    <tr>\n",
       "      <th>71</th>\n",
       "      <td>40080</td>\n",
       "      <td>2106-06-03 03:36:00</td>\n",
       "      <td>HEMOGLOBIN</td>\n",
       "      <td>8.2</td>\n",
       "      <td>8.2</td>\n",
       "      <td>g/dL</td>\n",
       "    </tr>\n",
       "    <tr>\n",
       "      <th>105</th>\n",
       "      <td>40080</td>\n",
       "      <td>2106-06-04 03:43:00</td>\n",
       "      <td>HEMOGLOBIN</td>\n",
       "      <td>8.2</td>\n",
       "      <td>8.2</td>\n",
       "      <td>g/dL</td>\n",
       "    </tr>\n",
       "    <tr>\n",
       "      <th>150</th>\n",
       "      <td>40080</td>\n",
       "      <td>2106-06-01 03:38:00</td>\n",
       "      <td>HEMOGLOBIN</td>\n",
       "      <td>8.3</td>\n",
       "      <td>8.3</td>\n",
       "      <td>g/dL</td>\n",
       "    </tr>\n",
       "    <tr>\n",
       "      <th>214</th>\n",
       "      <td>40080</td>\n",
       "      <td>2106-06-05 04:57:00</td>\n",
       "      <td>HEMOGLOBIN</td>\n",
       "      <td>8.5</td>\n",
       "      <td>8.5</td>\n",
       "      <td>g/dL</td>\n",
       "    </tr>\n",
       "  </tbody>\n",
       "</table>\n",
       "</div>"
      ],
      "text/plain": [
       "     SUBJECT_ID            CHARTTIME       LABEL VALUE  VALUENUM   UOM\n",
       "23        40080  2106-05-31 13:18:00  HEMOGLOBIN   9.1       9.1  g/dL\n",
       "40        40080  2106-06-02 03:31:00  HEMOGLOBIN   8.8       8.8  g/dL\n",
       "71        40080  2106-06-03 03:36:00  HEMOGLOBIN   8.2       8.2  g/dL\n",
       "105       40080  2106-06-04 03:43:00  HEMOGLOBIN   8.2       8.2  g/dL\n",
       "150       40080  2106-06-01 03:38:00  HEMOGLOBIN   8.3       8.3  g/dL\n",
       "214       40080  2106-06-05 04:57:00  HEMOGLOBIN   8.5       8.5  g/dL"
      ]
     },
     "execution_count": 175,
     "metadata": {},
     "output_type": "execute_result"
    }
   ],
   "source": [
    "# preview the ioevents data\n",
    "le[le.LABEL=='HEMOGLOBIN']"
   ]
  },
  {
   "cell_type": "markdown",
   "metadata": {},
   "source": [
    "#### PLot 5: hemoglobin and hematocrit values"
   ]
  },
  {
   "cell_type": "code",
   "execution_count": 176,
   "metadata": {},
   "outputs": [
    {
     "data": {
      "text/plain": [
       "<matplotlib.legend.Legend at 0xb068f10>"
      ]
     },
     "execution_count": 176,
     "metadata": {},
     "output_type": "execute_result"
    },
    {
     "data": {
      "image/png": "[encoded data removed]",
      "text/plain": [
       "<matplotlib.figure.Figure at 0xb04ce90>"
      ]
     },
     "metadata": {},
     "output_type": "display_data"
    }
   ],
   "source": [
    "plt.figure(figsize=(14, 10))\n",
    "\n",
    "plt.plot(le.index[le.LABEL=='HEMATOCRIT'], \n",
    "         le.VALUENUM[le.LABEL=='HEMATOCRIT'], \n",
    "         'go', markersize=6, label='Haematocrit')\n",
    "\n",
    "plt.plot(le.index[le.LABEL=='HEMOGLOBIN'], \n",
    "         le.VALUENUM[le.LABEL=='HEMOGLOBIN'], \n",
    "         'bv', markersize=8, label='Hemoglobin')\n",
    "\n",
    "plt.title('Laboratory measurements over time from admission')\n",
    "plt.ylim(0,38)\n",
    "plt.legend()"
   ]
  },
  {
   "cell_type": "markdown",
   "metadata": {},
   "source": [
    "# PART 2: Building a predictive model"
   ]
  },
  {
   "cell_type": "markdown",
   "metadata": {},
   "source": [
    "- Since the MIMIC demo dataset only contains data from 8 patients, all non-survivors, this dataset is not suitable to build mortality prediction models.\n",
    "- Instead, let's try something with the available data: can we predict SpO2 given arterial pO2 and mean blood pressure?\n",
    "- First, let’s extract a suitable dataset. We’ll run 3 sub-queries (one for each feature) then combine them.\n"
   ]
  },
  {
   "cell_type": "code",
   "execution_count": 177,
   "metadata": {},
   "outputs": [
    {
     "data": {
      "text/html": [
       "<div>\n",
       "<style>\n",
       "    .dataframe thead tr:only-child th {\n",
       "        text-align: right;\n",
       "    }\n",
       "\n",
       "    .dataframe thead th {\n",
       "        text-align: left;\n",
       "    }\n",
       "\n",
       "    .dataframe tbody tr th {\n",
       "        vertical-align: top;\n",
       "    }\n",
       "</style>\n",
       "<table border=\"1\" class=\"dataframe\">\n",
       "  <thead>\n",
       "    <tr style=\"text-align: right;\">\n",
       "      <th></th>\n",
       "      <th>subject_id</th>\n",
       "      <th>HOURS</th>\n",
       "      <th>po2</th>\n",
       "      <th>map</th>\n",
       "      <th>spo2</th>\n",
       "    </tr>\n",
       "  </thead>\n",
       "  <tbody>\n",
       "    <tr>\n",
       "      <th>0</th>\n",
       "      <td>40004</td>\n",
       "      <td>2.0</td>\n",
       "      <td>165.0</td>\n",
       "      <td>100.0</td>\n",
       "      <td>100.0</td>\n",
       "    </tr>\n",
       "    <tr>\n",
       "      <th>1</th>\n",
       "      <td>40004</td>\n",
       "      <td>2.0</td>\n",
       "      <td>165.0</td>\n",
       "      <td>88.5</td>\n",
       "      <td>100.0</td>\n",
       "    </tr>\n",
       "    <tr>\n",
       "      <th>2</th>\n",
       "      <td>40004</td>\n",
       "      <td>2.0</td>\n",
       "      <td>165.0</td>\n",
       "      <td>90.5</td>\n",
       "      <td>100.0</td>\n",
       "    </tr>\n",
       "    <tr>\n",
       "      <th>3</th>\n",
       "      <td>40004</td>\n",
       "      <td>2.0</td>\n",
       "      <td>526.0</td>\n",
       "      <td>100.0</td>\n",
       "      <td>100.0</td>\n",
       "    </tr>\n",
       "    <tr>\n",
       "      <th>4</th>\n",
       "      <td>40004</td>\n",
       "      <td>2.0</td>\n",
       "      <td>526.0</td>\n",
       "      <td>88.5</td>\n",
       "      <td>100.0</td>\n",
       "    </tr>\n",
       "  </tbody>\n",
       "</table>\n",
       "</div>"
      ],
      "text/plain": [
       "   subject_id  HOURS    po2    map   spo2\n",
       "0       40004    2.0  165.0  100.0  100.0\n",
       "1       40004    2.0  165.0   88.5  100.0\n",
       "2       40004    2.0  165.0   90.5  100.0\n",
       "3       40004    2.0  526.0  100.0  100.0\n",
       "4       40004    2.0  526.0   88.5  100.0"
      ]
     },
     "execution_count": 177,
     "metadata": {},
     "output_type": "execute_result"
    }
   ],
   "source": [
    "query = \"\"\"\n",
    "\n",
    "with t1 as -- all time steps\n",
    "(\n",
    "\n",
    "SELECT distinct de.subject_id\n",
    "  , round((strftime('%s',de.charttime)-strftime('%s',ie.intime))/60.0/120.0) as HOURS\n",
    "FROM chartevents de\n",
    "INNER join icustays ie\n",
    "ON de.subject_id = ie.subject_id\n",
    "order by de.subject_id, charttime\n",
    "\n",
    "), t2 as  -- po2\n",
    "(\n",
    "SELECT de.subject_id\n",
    "  --, de.charttime\n",
    "  , round((strftime('%s',de.charttime)-strftime('%s',ie.intime))/60.0/120.0+1) as HOURS\n",
    " -- , di.label, de.value\n",
    "  ,de.valuenum as po2\n",
    "  --, de.uom\n",
    "FROM labevents de\n",
    "INNER JOIN d_labitems di\n",
    "  ON de.itemid = di.itemid\n",
    "INNER join icustays ie\n",
    "ON de.subject_id = ie.subject_id\n",
    "where label = 'PO2'\n",
    "order by de.subject_id, hours\n",
    "\n",
    "), t3 as  -- spo2\n",
    "(\n",
    "with t1 as\n",
    "(SELECT de.subject_id\n",
    "  , round((strftime('%s',de.charttime)-strftime('%s',ie.intime))/60.0/120.0+1) as HOURS\n",
    "  , de.valuenum\n",
    "FROM chartevents de\n",
    "INNER join d_items di\n",
    "ON de.itemid = di.itemid\n",
    "INNER join icustays ie\n",
    "ON de.subject_id = ie.subject_id\n",
    "WHERE label = 'O2 saturation pulseoxymetry'\n",
    "ORDER BY charttime)\n",
    "select subject_id, hours, avg(valuenum) as spo2\n",
    "from t1\n",
    "group by subject_id, hours\n",
    "order by subject_id, hours\n",
    "), t4 as -- map\n",
    "(\n",
    "with t1 as\n",
    "(SELECT de.subject_id\n",
    "  , round((strftime('%s',de.charttime)-strftime('%s',ie.intime))/60.0/120.0+1) as HOURS\n",
    "  , de.valuenum\n",
    "FROM chartevents de\n",
    "INNER join d_items di\n",
    "ON de.itemid = di.itemid\n",
    "INNER join icustays ie\n",
    "ON de.icustay_id = ie.icustay_id\n",
    "WHERE label = 'Non Invasive Blood Pressure mean'\n",
    "ORDER BY charttime)\n",
    "select subject_id, hours, avg(valuenum) as map\n",
    "from t1\n",
    "group by subject_id, hours\n",
    "order by subject_id, hours\n",
    "\n",
    ")\n",
    "\n",
    "select t1.*, t2.po2 as po2,t4.map as map, t3.spo2 as spo2\n",
    "from t1, t2, t3, t4\n",
    "where t1.subject_id=t2.subject_id and t1.subject_id=t3.subject_id   and t1.subject_id=t4.subject_id   and t4.hours>=t1.hours-2 and t4.hours<=t1.hours+2  and t2.hours>=t1.hours-2  and t2.hours<=t1.hours+2 and t1.hours=t3.hours\"\"\"\n",
    "    \n",
    "# Run the query  \n",
    "uo = pd.read_sql_query(query,conn)\n",
    "\n",
    "# Save the correct columns into X (input) and Y (output) variables\n",
    "X=uo.drop('subject_id', axis = 1)\n",
    "X=X.drop('HOURS',axis=1)\n",
    "Y=uo.spo2\n",
    "# Save the name of the column headers \n",
    "feature_list = list(X.columns)\n",
    "# Visualise the dataset created \n",
    "uo.head()\n",
    "   "
   ]
  },
  {
   "cell_type": "markdown",
   "metadata": {},
   "source": [
    "It is good practice to train and test any statistical model on separate data, otherwise the model performance may be overestimated. So, let’s split the dataset into training and testing set.\n"
   ]
  },
  {
   "cell_type": "code",
   "execution_count": 178,
   "metadata": {},
   "outputs": [
    {
     "name": "stdout",
     "output_type": "stream",
     "text": [
      "Training Features Shape: (583, 3)\n",
      "Training Labels Shape: (583,)\n",
      "Testing Features Shape: (146, 3)\n",
      "Testing Labels Shape: (146,)\n"
     ]
    }
   ],
   "source": [
    "# Using Skicit-learn to split data into training and testing sets\n",
    "from sklearn.model_selection import train_test_split\n",
    "# Split the data into training and testing sets\n",
    "Xtrain, Xtest, Ytrain , Ytest = train_test_split(X,Y, test_size = 0.2, random_state = 1)\n",
    "\n",
    "print('Training Features Shape:', Xtrain.shape)\n",
    "print('Training Labels Shape:', Ytrain.shape)\n",
    "print('Testing Features Shape:', Xtest.shape)\n",
    "print('Testing Labels Shape:', Ytest.shape)\n"
   ]
  },
  {
   "cell_type": "markdown",
   "metadata": {},
   "source": [
    "Now that we’ve prepared the data, let’s build the predictive model. We’ll be using a random forest model, and learn the relationship between input data (pO2 and MAP) and the output (SpO2). Then, we’ll try the model on the test data."
   ]
  },
  {
   "cell_type": "code",
   "execution_count": 179,
   "metadata": {},
   "outputs": [],
   "source": [
    "from sklearn.ensemble import RandomForestClassifier\n",
    "#from sklearn.linear_model import LogisticRegression\n",
    "#from sklearn.metrics import roc_auc_score\n",
    "#from sklearn.neighbors  import KNeighborsClassifier\n",
    "#from sklearn.metrics import confusion_matrix\n",
    "from matplotlib import pyplot as plt\n",
    "import matplotlib\n",
    "\n",
    "# Build a random forest classifier\n",
    "rf = RandomForestClassifier()\n",
    "rf.fit(Xtrain,Ytrain.astype('int'))\n",
    "\n",
    "# Use the random forest predict method on the test data\n",
    "predictions = rf.predict(Xtest)\n"
   ]
  },
  {
   "cell_type": "markdown",
   "metadata": {},
   "source": [
    "Let’s assess the performance of the model we built. We can measure the absolute error between actual and predicted values, and the mean absolute percentage error (MAPE)."
   ]
  },
  {
   "cell_type": "code",
   "execution_count": 180,
   "metadata": {},
   "outputs": [
    {
     "name": "stdout",
     "output_type": "stream",
     "text": [
      "Mean Absolute Error: 0.43 % of SpO2\n",
      "Accuracy: 99.56 %.\n"
     ]
    }
   ],
   "source": [
    "# Calculate the absolute errors\n",
    "errors = abs(predictions - Ytest)\n",
    "print('Mean Absolute Error:', round(np.mean(errors), 2), '% of SpO2')\n",
    "\n",
    "# Calculate mean absolute percentage error (MAPE)\n",
    "mape = 100 * (errors / Ytest)\n",
    "\n",
    "# Calculate and display accuracy\n",
    "accuracy = 100 - np.mean(mape)\n",
    "print('Accuracy:', round(accuracy, 2), '%.')\n",
    "\n"
   ]
  },
  {
   "cell_type": "markdown",
   "metadata": {},
   "source": [
    "#### Plot 6: Actual versus predicted values."
   ]
  },
  {
   "cell_type": "code",
   "execution_count": 181,
   "metadata": {},
   "outputs": [
    {
     "data": {
      "image/png": "[encoded data removed]",
      "text/plain": [
       "<matplotlib.figure.Figure at 0x12f44a90>"
      ]
     },
     "metadata": {},
     "output_type": "display_data"
    }
   ],
   "source": [
    "# Plot actual versus predicted values\n",
    "plt.scatter(Xtest.po2, Ytest, c=\"g\", alpha=0.5, label=\"True test data\")\n",
    "plt.scatter(Xtest.po2, predictions, c=\"r\", alpha=0.5, label=\"Predicted data\")\n",
    "\n",
    "plt.xlabel(\"pO2\")\n",
    "plt.ylabel(\"spO2\")\n",
    "plt.legend(loc=4)\n",
    "plt.show()\n"
   ]
  },
  {
   "cell_type": "markdown",
   "metadata": {},
   "source": [
    "# Conclusion"
   ]
  },
  {
   "cell_type": "markdown",
   "metadata": {},
   "source": [
    "This concludes our workshop. To summarise, we gained insight into MIMIC-III, the publicly accessible critical care database. We explored raw patient data with SQL queries, extracted and analysed the data of a single patient and built a simple predictive model.\n",
    "\n",
    "If after this workshop you would like to gain access to the full MIMIC-III dataset, which contains rich data for over 40,000 patients, please see: https://mimic.physionet.org/gettingstarted/access/"
   ]
  }
 ],
 "metadata": {
  "kernelspec": {
   "display_name": "Python 3",
   "language": "python",
   "name": "python3"
  },
  "language_info": {
   "codemirror_mode": {
    "name": "ipython",
    "version": 3
   },
   "file_extension": ".py",
   "mimetype": "text/x-python",
   "name": "python",
   "nbconvert_exporter": "python",
   "pygments_lexer": "ipython3",
   "version": "3.6.1"
  }
 },
 "nbformat": 4,
 "nbformat_minor": 1
}
